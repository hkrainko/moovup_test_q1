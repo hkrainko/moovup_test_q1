{
 "cells": [
  {
   "cell_type": "markdown",
   "metadata": {},
   "source": [
    "## Q1 a."
   ]
  },
  {
   "cell_type": "code",
   "execution_count": 47,
   "metadata": {},
   "outputs": [
    {
     "name": "stdout",
     "output_type": "stream",
     "text": [
      "All possible paths from A to H:\n",
      "['A', 'B', 'C', 'D', 'E', 'F', 'G', 'H']\n",
      "['A', 'B', 'C', 'D', 'E', 'H']\n",
      "['A', 'B', 'C', 'F', 'E', 'H']\n",
      "['A', 'B', 'C', 'F', 'G', 'H']\n",
      "['A', 'B', 'D', 'C', 'F', 'E', 'H']\n",
      "['A', 'B', 'D', 'C', 'F', 'G', 'H']\n",
      "['A', 'B', 'D', 'E', 'F', 'G', 'H']\n",
      "['A', 'B', 'D', 'E', 'H']\n",
      "['A', 'D', 'B', 'C', 'F', 'E', 'H']\n",
      "['A', 'D', 'B', 'C', 'F', 'G', 'H']\n",
      "['A', 'D', 'C', 'F', 'E', 'H']\n",
      "['A', 'D', 'C', 'F', 'G', 'H']\n",
      "['A', 'D', 'E', 'F', 'G', 'H']\n",
      "['A', 'D', 'E', 'H']\n",
      "['A', 'H']\n",
      "All possible paths from A to G:\n",
      "['A', 'B', 'C', 'D', 'E', 'F', 'G']\n",
      "['A', 'B', 'C', 'D', 'E', 'H', 'G']\n",
      "['A', 'B', 'C', 'F', 'E', 'H', 'G']\n",
      "['A', 'B', 'C', 'F', 'G']\n",
      "['A', 'B', 'D', 'C', 'F', 'E', 'H', 'G']\n",
      "['A', 'B', 'D', 'C', 'F', 'G']\n",
      "['A', 'B', 'D', 'E', 'F', 'G']\n",
      "['A', 'B', 'D', 'E', 'H', 'G']\n",
      "['A', 'D', 'B', 'C', 'F', 'E', 'H', 'G']\n",
      "['A', 'D', 'B', 'C', 'F', 'G']\n",
      "['A', 'D', 'C', 'F', 'E', 'H', 'G']\n",
      "['A', 'D', 'C', 'F', 'G']\n",
      "['A', 'D', 'E', 'F', 'G']\n",
      "['A', 'D', 'E', 'H', 'G']\n",
      "['A', 'H', 'E', 'D', 'B', 'C', 'F', 'G']\n",
      "['A', 'H', 'E', 'D', 'C', 'F', 'G']\n",
      "['A', 'H', 'E', 'F', 'G']\n",
      "['A', 'H', 'G']\n",
      "All possible paths from A to F:\n",
      "['A', 'B', 'C', 'D', 'E', 'F']\n",
      "['A', 'B', 'C', 'D', 'E', 'H', 'G', 'F']\n",
      "['A', 'B', 'C', 'F']\n",
      "['A', 'B', 'D', 'C', 'F']\n",
      "['A', 'B', 'D', 'E', 'F']\n",
      "['A', 'B', 'D', 'E', 'H', 'G', 'F']\n",
      "['A', 'D', 'B', 'C', 'F']\n",
      "['A', 'D', 'C', 'F']\n",
      "['A', 'D', 'E', 'F']\n",
      "['A', 'D', 'E', 'H', 'G', 'F']\n",
      "['A', 'H', 'E', 'D', 'B', 'C', 'F']\n",
      "['A', 'H', 'E', 'D', 'C', 'F']\n",
      "['A', 'H', 'E', 'F']\n",
      "['A', 'H', 'G', 'F']\n"
     ]
    }
   ],
   "source": [
    "def find_all_paths(graph, start, end, path=[]):\n",
    "    # Deep first search, until the end node is found\n",
    "    path = path + [start]\n",
    "    \n",
    "    # If the start node is the end node, return the path\n",
    "    if start == end:\n",
    "        return [path]\n",
    "    \n",
    "    # If the start node is not in the graph, return an empty list\n",
    "    if start not in graph:\n",
    "        return []\n",
    "    \n",
    "    paths = []\n",
    "    \n",
    "    # For each node connected to the start node\n",
    "    for node in graph[start]:\n",
    "        \n",
    "        # If the node is not in the path\n",
    "        if node not in path:\n",
    "            \n",
    "            newpaths = find_all_paths(graph, node, end, path)\n",
    "            \n",
    "            # For each path found, add it to the list of paths\n",
    "            for p in newpaths:\n",
    "                paths.append(p)\n",
    "    return paths\n",
    "\n",
    "graph = {\n",
    "    'A': ['B', 'D', 'H'],\n",
    "    'B': ['A', 'C', 'D'],\n",
    "    'C': ['B', 'D', 'F'],\n",
    "    'D': ['A', 'B', 'C', 'E'],\n",
    "    'E': ['D', 'F', 'H'],\n",
    "    'F': ['C', 'E', 'G'],\n",
    "    'G': ['F', 'H'],\n",
    "    'H': ['A', 'E', 'G']\n",
    "}\n",
    "\n",
    "def print_all_paths(graph, start, end):\n",
    "    all_paths = find_all_paths(graph, start, end)\n",
    "    print(f\"All possible paths from {start} to {end}:\")\n",
    "    for path in all_paths:\n",
    "        print(path)\n",
    "\n",
    "print_all_paths(graph, 'A', 'H')\n",
    "print_all_paths(graph, 'A', 'G')\n",
    "print_all_paths(graph, 'A', 'F')"
   ]
  },
  {
   "cell_type": "markdown",
   "metadata": {},
   "source": [
    "## Q1 b."
   ]
  },
  {
   "cell_type": "code",
   "execution_count": 46,
   "metadata": {},
   "outputs": [
    {
     "name": "stdout",
     "output_type": "stream",
     "text": [
      "The least number of hops from A to H is: 1, example: ['A', 'H']\n",
      "The least number of hops from A to G is: 2, example: ['A', 'H', 'G']\n",
      "The least number of hops from A to F is: 3, example: ['A', 'B', 'C', 'F']\n",
      "The least number of hops from A to C is: 2, example: ['A', 'B', 'C']\n",
      "The least number of hops from A to D is: 1, example: ['A', 'D']\n"
     ]
    }
   ],
   "source": [
    "def find_shortest_path_bfs(graph, start, end):\n",
    "    # BFS algorithm, so that the first path found is the shortest\n",
    "    queue = [[start, [start]]]\n",
    "    while queue:\n",
    "        node, path = queue.pop(0)\n",
    "        for next_node in graph[node]:\n",
    "            if next_node == end:\n",
    "                return path + [next_node]\n",
    "            else:\n",
    "                queue.append([next_node, path + [next_node]])\n",
    "\n",
    "def print_least_num_of_hops(graph, start, end):\n",
    "    shortest_path = find_shortest_path_bfs(graph, start, end)\n",
    "    print(f\"The least number of hops from {start} to {end} is: {len(shortest_path) - 1}, example: {shortest_path}\")\n",
    "                \n",
    "                \n",
    "print_least_num_of_hops(graph, 'A', 'H')\n",
    "print_least_num_of_hops(graph, 'A', 'G')\n",
    "print_least_num_of_hops(graph, 'A', 'F')\n",
    "print_least_num_of_hops(graph, 'A', 'C')\n",
    "print_least_num_of_hops(graph, 'A', 'D')"
   ]
  }
 ],
 "metadata": {
  "kernelspec": {
   "display_name": "Python 3",
   "language": "python",
   "name": "python3"
  },
  "language_info": {
   "codemirror_mode": {
    "name": "ipython",
    "version": 3
   },
   "file_extension": ".py",
   "mimetype": "text/x-python",
   "name": "python",
   "nbconvert_exporter": "python",
   "pygments_lexer": "ipython3",
   "version": "3.11.5"
  }
 },
 "nbformat": 4,
 "nbformat_minor": 2
}
